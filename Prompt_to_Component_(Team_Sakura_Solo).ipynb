{
  "nbformat": 4,
  "nbformat_minor": 0,
  "metadata": {
    "colab": {
      "provenance": []
    },
    "kernelspec": {
      "name": "python3",
      "display_name": "Python 3"
    },
    "language_info": {
      "name": "python"
    },
    "widgets": {
      "application/vnd.jupyter.widget-state+json": {
        "550d01eac8bb4f2694554e0fcb2c9e38": {
          "model_module": "@jupyter-widgets/controls",
          "model_name": "LabelModel",
          "model_module_version": "1.5.0",
          "state": {
            "_dom_classes": [],
            "_model_module": "@jupyter-widgets/controls",
            "_model_module_version": "1.5.0",
            "_model_name": "LabelModel",
            "_view_count": null,
            "_view_module": "@jupyter-widgets/controls",
            "_view_module_version": "1.5.0",
            "_view_name": "LabelView",
            "description": "",
            "description_tooltip": null,
            "layout": "IPY_MODEL_e632218cf81d49c0bb00dd285439bb93",
            "placeholder": "​",
            "style": "IPY_MODEL_da4abe4a22a94858bcb69572ba14e9ff",
            "value": "Select a component type and style (if applicable), then click 'Generate Component':"
          }
        },
        "e632218cf81d49c0bb00dd285439bb93": {
          "model_module": "@jupyter-widgets/base",
          "model_name": "LayoutModel",
          "model_module_version": "1.2.0",
          "state": {
            "_model_module": "@jupyter-widgets/base",
            "_model_module_version": "1.2.0",
            "_model_name": "LayoutModel",
            "_view_count": null,
            "_view_module": "@jupyter-widgets/base",
            "_view_module_version": "1.2.0",
            "_view_name": "LayoutView",
            "align_content": null,
            "align_items": null,
            "align_self": null,
            "border": null,
            "bottom": null,
            "display": null,
            "flex": null,
            "flex_flow": null,
            "grid_area": null,
            "grid_auto_columns": null,
            "grid_auto_flow": null,
            "grid_auto_rows": null,
            "grid_column": null,
            "grid_gap": null,
            "grid_row": null,
            "grid_template_areas": null,
            "grid_template_columns": null,
            "grid_template_rows": null,
            "height": null,
            "justify_content": null,
            "justify_items": null,
            "left": null,
            "margin": null,
            "max_height": null,
            "max_width": null,
            "min_height": null,
            "min_width": null,
            "object_fit": null,
            "object_position": null,
            "order": null,
            "overflow": null,
            "overflow_x": null,
            "overflow_y": null,
            "padding": null,
            "right": null,
            "top": null,
            "visibility": null,
            "width": null
          }
        },
        "da4abe4a22a94858bcb69572ba14e9ff": {
          "model_module": "@jupyter-widgets/controls",
          "model_name": "DescriptionStyleModel",
          "model_module_version": "1.5.0",
          "state": {
            "_model_module": "@jupyter-widgets/controls",
            "_model_module_version": "1.5.0",
            "_model_name": "DescriptionStyleModel",
            "_view_count": null,
            "_view_module": "@jupyter-widgets/base",
            "_view_module_version": "1.2.0",
            "_view_name": "StyleView",
            "description_width": ""
          }
        },
        "37ba074afe28492bbcd19e9ce3d9a387": {
          "model_module": "@jupyter-widgets/controls",
          "model_name": "DropdownModel",
          "model_module_version": "1.5.0",
          "state": {
            "_dom_classes": [],
            "_model_module": "@jupyter-widgets/controls",
            "_model_module_version": "1.5.0",
            "_model_name": "DropdownModel",
            "_options_labels": [
              "button",
              "card",
              "input",
              "dropdown",
              "checkbox",
              "modal"
            ],
            "_view_count": null,
            "_view_module": "@jupyter-widgets/controls",
            "_view_module_version": "1.5.0",
            "_view_name": "DropdownView",
            "description": "Component Type:",
            "description_tooltip": null,
            "disabled": false,
            "index": 5,
            "layout": "IPY_MODEL_f9b5df2782bb4daead4d1a0492f56b14",
            "style": "IPY_MODEL_c9833b6752ce48988b26ea71d3bca006"
          }
        },
        "f9b5df2782bb4daead4d1a0492f56b14": {
          "model_module": "@jupyter-widgets/base",
          "model_name": "LayoutModel",
          "model_module_version": "1.2.0",
          "state": {
            "_model_module": "@jupyter-widgets/base",
            "_model_module_version": "1.2.0",
            "_model_name": "LayoutModel",
            "_view_count": null,
            "_view_module": "@jupyter-widgets/base",
            "_view_module_version": "1.2.0",
            "_view_name": "LayoutView",
            "align_content": null,
            "align_items": null,
            "align_self": null,
            "border": null,
            "bottom": null,
            "display": null,
            "flex": null,
            "flex_flow": null,
            "grid_area": null,
            "grid_auto_columns": null,
            "grid_auto_flow": null,
            "grid_auto_rows": null,
            "grid_column": null,
            "grid_gap": null,
            "grid_row": null,
            "grid_template_areas": null,
            "grid_template_columns": null,
            "grid_template_rows": null,
            "height": null,
            "justify_content": null,
            "justify_items": null,
            "left": null,
            "margin": null,
            "max_height": null,
            "max_width": null,
            "min_height": null,
            "min_width": null,
            "object_fit": null,
            "object_position": null,
            "order": null,
            "overflow": null,
            "overflow_x": null,
            "overflow_y": null,
            "padding": null,
            "right": null,
            "top": null,
            "visibility": null,
            "width": null
          }
        },
        "c9833b6752ce48988b26ea71d3bca006": {
          "model_module": "@jupyter-widgets/controls",
          "model_name": "DescriptionStyleModel",
          "model_module_version": "1.5.0",
          "state": {
            "_model_module": "@jupyter-widgets/controls",
            "_model_module_version": "1.5.0",
            "_model_name": "DescriptionStyleModel",
            "_view_count": null,
            "_view_module": "@jupyter-widgets/base",
            "_view_module_version": "1.2.0",
            "_view_name": "StyleView",
            "description_width": ""
          }
        },
        "70bf4d907a434b4ba16ffc2188e4008d": {
          "model_module": "@jupyter-widgets/controls",
          "model_name": "DropdownModel",
          "model_module_version": "1.5.0",
          "state": {
            "_dom_classes": [],
            "_model_module": "@jupyter-widgets/controls",
            "_model_module_version": "1.5.0",
            "_model_name": "DropdownModel",
            "_options_labels": [
              "primary",
              "secondary",
              "danger"
            ],
            "_view_count": null,
            "_view_module": "@jupyter-widgets/controls",
            "_view_module_version": "1.5.0",
            "_view_name": "DropdownView",
            "description": "Style:",
            "description_tooltip": null,
            "disabled": false,
            "index": 1,
            "layout": "IPY_MODEL_10efde3013104afda08964e7208af24e",
            "style": "IPY_MODEL_d9ce864a0b0c450fb5315845c036824a"
          }
        },
        "10efde3013104afda08964e7208af24e": {
          "model_module": "@jupyter-widgets/base",
          "model_name": "LayoutModel",
          "model_module_version": "1.2.0",
          "state": {
            "_model_module": "@jupyter-widgets/base",
            "_model_module_version": "1.2.0",
            "_model_name": "LayoutModel",
            "_view_count": null,
            "_view_module": "@jupyter-widgets/base",
            "_view_module_version": "1.2.0",
            "_view_name": "LayoutView",
            "align_content": null,
            "align_items": null,
            "align_self": null,
            "border": null,
            "bottom": null,
            "display": null,
            "flex": null,
            "flex_flow": null,
            "grid_area": null,
            "grid_auto_columns": null,
            "grid_auto_flow": null,
            "grid_auto_rows": null,
            "grid_column": null,
            "grid_gap": null,
            "grid_row": null,
            "grid_template_areas": null,
            "grid_template_columns": null,
            "grid_template_rows": null,
            "height": null,
            "justify_content": null,
            "justify_items": null,
            "left": null,
            "margin": null,
            "max_height": null,
            "max_width": null,
            "min_height": null,
            "min_width": null,
            "object_fit": null,
            "object_position": null,
            "order": null,
            "overflow": null,
            "overflow_x": null,
            "overflow_y": null,
            "padding": null,
            "right": null,
            "top": null,
            "visibility": null,
            "width": null
          }
        },
        "d9ce864a0b0c450fb5315845c036824a": {
          "model_module": "@jupyter-widgets/controls",
          "model_name": "DescriptionStyleModel",
          "model_module_version": "1.5.0",
          "state": {
            "_model_module": "@jupyter-widgets/controls",
            "_model_module_version": "1.5.0",
            "_model_name": "DescriptionStyleModel",
            "_view_count": null,
            "_view_module": "@jupyter-widgets/base",
            "_view_module_version": "1.2.0",
            "_view_name": "StyleView",
            "description_width": ""
          }
        },
        "504da9426e9a447b87813ba3edcb4dca": {
          "model_module": "@jupyter-widgets/controls",
          "model_name": "ButtonModel",
          "model_module_version": "1.5.0",
          "state": {
            "_dom_classes": [],
            "_model_module": "@jupyter-widgets/controls",
            "_model_module_version": "1.5.0",
            "_model_name": "ButtonModel",
            "_view_count": null,
            "_view_module": "@jupyter-widgets/controls",
            "_view_module_version": "1.5.0",
            "_view_name": "ButtonView",
            "button_style": "",
            "description": "Generate Component",
            "disabled": false,
            "icon": "",
            "layout": "IPY_MODEL_edc46a57124e47ba921c835fd490b5d8",
            "style": "IPY_MODEL_3c2dc0324ee148bdaf2e3f048742f428",
            "tooltip": ""
          }
        },
        "edc46a57124e47ba921c835fd490b5d8": {
          "model_module": "@jupyter-widgets/base",
          "model_name": "LayoutModel",
          "model_module_version": "1.2.0",
          "state": {
            "_model_module": "@jupyter-widgets/base",
            "_model_module_version": "1.2.0",
            "_model_name": "LayoutModel",
            "_view_count": null,
            "_view_module": "@jupyter-widgets/base",
            "_view_module_version": "1.2.0",
            "_view_name": "LayoutView",
            "align_content": null,
            "align_items": null,
            "align_self": null,
            "border": null,
            "bottom": null,
            "display": null,
            "flex": null,
            "flex_flow": null,
            "grid_area": null,
            "grid_auto_columns": null,
            "grid_auto_flow": null,
            "grid_auto_rows": null,
            "grid_column": null,
            "grid_gap": null,
            "grid_row": null,
            "grid_template_areas": null,
            "grid_template_columns": null,
            "grid_template_rows": null,
            "height": null,
            "justify_content": null,
            "justify_items": null,
            "left": null,
            "margin": null,
            "max_height": null,
            "max_width": null,
            "min_height": null,
            "min_width": null,
            "object_fit": null,
            "object_position": null,
            "order": null,
            "overflow": null,
            "overflow_x": null,
            "overflow_y": null,
            "padding": null,
            "right": null,
            "top": null,
            "visibility": null,
            "width": null
          }
        },
        "3c2dc0324ee148bdaf2e3f048742f428": {
          "model_module": "@jupyter-widgets/controls",
          "model_name": "ButtonStyleModel",
          "model_module_version": "1.5.0",
          "state": {
            "_model_module": "@jupyter-widgets/controls",
            "_model_module_version": "1.5.0",
            "_model_name": "ButtonStyleModel",
            "_view_count": null,
            "_view_module": "@jupyter-widgets/base",
            "_view_module_version": "1.2.0",
            "_view_name": "StyleView",
            "button_color": null,
            "font_weight": ""
          }
        }
      }
    }
  },
  "cells": [
    {
      "cell_type": "markdown",
      "source": [
        "# Component Generator\n",
        "**Simplifying UI Development with Interactive Components**\n",
        "\n",
        "Welcome to the Component Generator! This tool allows users to quickly generate reusable UI components for web applications, enhancing developer productivity and ensuring consistency.\n"
      ],
      "metadata": {
        "id": "XisxZu_U1BMb"
      }
    },
    {
      "cell_type": "markdown",
      "source": [
        "## The Problem\n",
        "Creating UI components from scratch can be time-consuming and challenging. Developers often struggle with:\n",
        "- Lack of resources and examples\n",
        "- Inconsistency across components\n",
        "- Difficulty in maintaining best practices\n"
      ],
      "metadata": {
        "id": "OtFub7nj1FDq"
      }
    },
    {
      "cell_type": "markdown",
      "source": [],
      "metadata": {
        "id": "y7uHtQQp1GFO"
      }
    },
    {
      "cell_type": "markdown",
      "source": [
        "## Our Solution\n",
        "The Component Generator addresses these challenges by providing an easy-to-use interface for generating various UI components, complete with customizable styles.\n"
      ],
      "metadata": {
        "id": "3_PO4GNf1IOJ"
      }
    },
    {
      "cell_type": "markdown",
      "source": [
        "## Key Features\n",
        "- **Multiple Component Options**: Create buttons, cards, dropdowns, checkboxes, and modals.\n",
        "- **Style Customization**: Choose from primary, secondary, and danger styles for buttons.\n",
        "- **Instant Preview**: Visual feedback of components in real-time.\n",
        "- **Future Potential**: Plans for exporting components and integrating with design tools.\n"
      ],
      "metadata": {
        "id": "mHpwetgY1J9G"
      }
    },
    {
      "cell_type": "markdown",
      "source": [
        "## Live Demo\n",
        "Below, you can interact with the Component Generator. Select a component type and style, then click \"Generate Component\" to see the result.\n"
      ],
      "metadata": {
        "id": "WkBM_PWZ1NXd"
      }
    },
    {
      "cell_type": "code",
      "source": [
        "# Import necessary libraries\n",
        "import json\n",
        "import ipywidgets as widgets\n",
        "from IPython.display import display, clear_output, HTML\n",
        "\n",
        "# Function to generate components based on user input\n",
        "def generate_component(component_type, style=None):\n",
        "    components = {\n",
        "        \"button\": {\"type\": \"button\", \"label\": \"Click Me\", \"style\": style if style else \"primary\"},\n",
        "        \"card\": {\"type\": \"card\", \"title\": \"Card Title\", \"content\": \"This is a card.\"},\n",
        "        \"input\": {\"type\": \"input\", \"placeholder\": \"Enter text\"},\n",
        "        \"dropdown\": {\"type\": \"dropdown\", \"options\": [\"Option 1\", \"Option 2\", \"Option 3\"]},\n",
        "        \"checkbox\": {\"type\": \"checkbox\", \"label\": \"Check me\"},\n",
        "        \"modal\": {\"type\": \"modal\", \"title\": \"Modal Title\", \"content\": \"This is a modal.\"},\n",
        "        # More components can be added here\n",
        "    }\n",
        "    return components.get(component_type.lower(), {\"error\": \"Component not found.\"})\n",
        "\n",
        "# Function to render component preview\n",
        "def render_preview(component):\n",
        "    if component['type'] == 'button':\n",
        "        return f\"<button class='{component['style']}'>{component['label']}</button>\"\n",
        "    elif component['type'] == 'card':\n",
        "        return f\"<div class='card'><h3>{component['title']}</h3><p>{component['content']}</p></div>\"\n",
        "    elif component['type'] == 'input':\n",
        "        return f\"<input placeholder='{component['placeholder']}' />\"\n",
        "    elif component['type'] == 'dropdown':\n",
        "        options = \"\".join(f\"<option>{opt}</option>\" for opt in component['options'])\n",
        "        return f\"<select>{options}</select>\"\n",
        "    elif component['type'] == 'checkbox':\n",
        "        return f\"<label><input type='checkbox' /> {component['label']}</label>\"\n",
        "    elif component['type'] == 'modal':\n",
        "        return f\"<div class='modal'><h3>{component['title']}</h3><p>{component['content']}</p></div>\"\n",
        "    return \"<div>Component not found.</div>\"\n",
        "\n",
        "# Function to handle button click event\n",
        "def on_button_click(b):\n",
        "    clear_output()\n",
        "    display(instruction, component_type_widget, style_widget, generate_button)\n",
        "    component_type = component_type_widget.value\n",
        "    style = style_widget.value if component_type == \"button\" else None\n",
        "    component = generate_component(component_type, style)\n",
        "\n",
        "    print(\"\\nGenerated Component:\")\n",
        "    print(json.dumps(component, indent=2))  # Pretty print the output\n",
        "    print(\"\\nPreview:\")\n",
        "    display(HTML(render_preview(component)))\n",
        "\n",
        "# Create dropdown for component selection\n",
        "component_type_widget = widgets.Dropdown(\n",
        "    options=['button', 'card', 'input', 'dropdown', 'checkbox', 'modal'],\n",
        "    description='Component Type:',\n",
        ")\n",
        "\n",
        "# Create dropdown for styles (if applicable)\n",
        "style_widget = widgets.Dropdown(\n",
        "    options=['primary', 'secondary', 'danger'],\n",
        "    description='Style:',\n",
        "    disabled=False,\n",
        ")\n",
        "\n",
        "# Create a button to generate the component\n",
        "generate_button = widgets.Button(\n",
        "    description='Generate Component',\n",
        ")\n",
        "\n",
        "# Bind the button click event\n",
        "generate_button.on_click(on_button_click)\n",
        "\n",
        "# Display the widgets\n",
        "instruction = widgets.Label(value=\"Select a component type and style (if applicable), then click 'Generate Component':\")\n",
        "display(instruction, component_type_widget, style_widget, generate_button)\n"
      ],
      "metadata": {
        "colab": {
          "base_uri": "https://localhost:8080/",
          "height": 363,
          "referenced_widgets": [
            "550d01eac8bb4f2694554e0fcb2c9e38",
            "e632218cf81d49c0bb00dd285439bb93",
            "da4abe4a22a94858bcb69572ba14e9ff",
            "37ba074afe28492bbcd19e9ce3d9a387",
            "f9b5df2782bb4daead4d1a0492f56b14",
            "c9833b6752ce48988b26ea71d3bca006",
            "70bf4d907a434b4ba16ffc2188e4008d",
            "10efde3013104afda08964e7208af24e",
            "d9ce864a0b0c450fb5315845c036824a",
            "504da9426e9a447b87813ba3edcb4dca",
            "edc46a57124e47ba921c835fd490b5d8",
            "3c2dc0324ee148bdaf2e3f048742f428"
          ]
        },
        "id": "LCXgnEoiz2PO",
        "outputId": "054205a1-789d-4d61-f638-dfa21bfc8f6f"
      },
      "execution_count": 22,
      "outputs": [
        {
          "output_type": "display_data",
          "data": {
            "text/plain": [
              "Label(value=\"Select a component type and style (if applicable), then click 'Generate Component':\")"
            ],
            "application/vnd.jupyter.widget-view+json": {
              "version_major": 2,
              "version_minor": 0,
              "model_id": "550d01eac8bb4f2694554e0fcb2c9e38"
            }
          },
          "metadata": {}
        },
        {
          "output_type": "display_data",
          "data": {
            "text/plain": [
              "Dropdown(description='Component Type:', index=5, options=('button', 'card', 'input', 'dropdown', 'checkbox', '…"
            ],
            "application/vnd.jupyter.widget-view+json": {
              "version_major": 2,
              "version_minor": 0,
              "model_id": "37ba074afe28492bbcd19e9ce3d9a387"
            }
          },
          "metadata": {}
        },
        {
          "output_type": "display_data",
          "data": {
            "text/plain": [
              "Dropdown(description='Style:', index=1, options=('primary', 'secondary', 'danger'), value='secondary')"
            ],
            "application/vnd.jupyter.widget-view+json": {
              "version_major": 2,
              "version_minor": 0,
              "model_id": "70bf4d907a434b4ba16ffc2188e4008d"
            }
          },
          "metadata": {}
        },
        {
          "output_type": "display_data",
          "data": {
            "text/plain": [
              "Button(description='Generate Component', style=ButtonStyle())"
            ],
            "application/vnd.jupyter.widget-view+json": {
              "version_major": 2,
              "version_minor": 0,
              "model_id": "504da9426e9a447b87813ba3edcb4dca"
            }
          },
          "metadata": {}
        },
        {
          "output_type": "stream",
          "name": "stdout",
          "text": [
            "\n",
            "Generated Component:\n",
            "{\n",
            "  \"type\": \"modal\",\n",
            "  \"title\": \"Modal Title\",\n",
            "  \"content\": \"This is a modal.\"\n",
            "}\n",
            "\n",
            "Preview:\n"
          ]
        },
        {
          "output_type": "display_data",
          "data": {
            "text/plain": [
              "<IPython.core.display.HTML object>"
            ],
            "text/html": [
              "<div class='modal'><h3>Modal Title</h3><p>This is a modal.</p></div>"
            ]
          },
          "metadata": {}
        }
      ]
    },
    {
      "cell_type": "markdown",
      "source": [
        "## Future Enhancements\n",
        "- Adding more component types and styles\n",
        "- Export functionality for Figma or code snippets\n",
        "- Integration with popular design frameworks and systems\n"
      ],
      "metadata": {
        "id": "ye4Fwq5i0_kr"
      }
    },
    {
      "cell_type": "markdown",
      "source": [
        "## Conclusion\n",
        "The Component Generator is a powerful tool for developers looking to streamline their UI development process. We believe that with further enhancements, it can become an essential part of any developer's toolkit.\n"
      ],
      "metadata": {
        "id": "CriwMLlA1Sdt"
      }
    },
    {
      "cell_type": "markdown",
      "source": [
        "## We Want Your Feedback!\n",
        "Please try out the tool and let us know your thoughts! Your input will help us improve and expand this project.\n"
      ],
      "metadata": {
        "id": "n-Y8WvbN1TuV"
      }
    }
  ]
}